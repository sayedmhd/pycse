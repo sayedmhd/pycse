{
 "cells": [
  {
   "cell_type": "code",
   "execution_count": 68,
   "metadata": {},
   "outputs": [
    {
     "name": "stdout",
     "output_type": "stream",
     "text": [
      "List of HTTP Status Code:\n",
      "[200, 400, 403, 500]\n"
     ]
    }
   ],
   "source": [
    "print(\"List of HTTP Status Code:\")\n",
    "responses = [200, 400, 403, 500]\n",
    "print(responses)"
   ]
  },
  {
   "cell_type": "code",
   "execution_count": 69,
   "metadata": {},
   "outputs": [
    {
     "name": "stdout",
     "output_type": "stream",
     "text": [
      "200\n"
     ]
    },
    {
     "data": {
      "text/plain": [
       "int"
      ]
     },
     "execution_count": 69,
     "metadata": {},
     "output_type": "execute_result"
    }
   ],
   "source": [
    "HTTPok =200\n",
    "print(HTTPok)\n",
    "type(HTTPok)"
   ]
  },
  {
   "cell_type": "code",
   "execution_count": 70,
   "metadata": {},
   "outputs": [
    {
     "name": "stdout",
     "output_type": "stream",
     "text": [
      "HTTP OK Status Codes 200\n"
     ]
    }
   ],
   "source": [
    "print(\"HTTP OK Status Codes\", str(HTTPok)) #Convert to string"
   ]
  },
  {
   "cell_type": "code",
   "execution_count": 71,
   "metadata": {},
   "outputs": [
    {
     "data": {
      "text/plain": [
       "[200, 400, 403, 500]"
      ]
     },
     "execution_count": 71,
     "metadata": {},
     "output_type": "execute_result"
    }
   ],
   "source": [
    "responses"
   ]
  },
  {
   "cell_type": "code",
   "execution_count": 72,
   "metadata": {},
   "outputs": [
    {
     "name": "stdout",
     "output_type": "stream",
     "text": [
      "200\n",
      "400\n",
      "403\n",
      "500\n",
      "500\n",
      "403\n",
      "400\n",
      "200\n"
     ]
    }
   ],
   "source": [
    "print(responses[0])\n",
    "print(responses[1])\n",
    "print(responses[2])\n",
    "print(responses[3])\n",
    "print(responses[-1])\n",
    "print(responses[-2])\n",
    "print(responses[-3])\n",
    "print(responses[-4])"
   ]
  },
  {
   "cell_type": "code",
   "execution_count": 73,
   "metadata": {},
   "outputs": [
    {
     "name": "stdout",
     "output_type": "stream",
     "text": [
      "['HTTP', 'HTTPS', 'FTP', 'SFTP', 'SSH', 'TELNET', 'SMTP']\n"
     ]
    }
   ],
   "source": [
    "#create a list of Protocols\n",
    "protocolList = [\"HTTP\", \"HTTPS\", \"FTP\", \"SFTP\", \"SSH\", \"TELNET\", \"SMTP\"]\n",
    "print(protocolList)\n"
   ]
  },
  {
   "cell_type": "code",
   "execution_count": 74,
   "metadata": {},
   "outputs": [
    {
     "name": "stdout",
     "output_type": "stream",
     "text": [
      "HTTP\n",
      "HTTPS\n",
      "FTP\n",
      "SFTP\n",
      "SSH\n",
      "TELNET\n",
      "SMTP\n"
     ]
    }
   ],
   "source": [
    "for protocol in protocolList:\n",
    "    print(protocol)\n",
    "    "
   ]
  },
  {
   "cell_type": "code",
   "execution_count": 75,
   "metadata": {},
   "outputs": [
    {
     "name": "stdout",
     "output_type": "stream",
     "text": [
      "['HTTP', 'HTTPS', 'FTP', 'SFTP', 'SSH', 'TELNET', 'SMTP', 'snmp']\n"
     ]
    }
   ],
   "source": [
    "protocolList.append(\"snmp\")\n",
    "print(protocolList)"
   ]
  },
  {
   "cell_type": "code",
   "execution_count": 76,
   "metadata": {},
   "outputs": [
    {
     "data": {
      "text/plain": [
       "1"
      ]
     },
     "execution_count": 76,
     "metadata": {},
     "output_type": "execute_result"
    }
   ],
   "source": [
    "protocolList.count('snmp')"
   ]
  },
  {
   "cell_type": "code",
   "execution_count": 77,
   "metadata": {},
   "outputs": [
    {
     "data": {
      "text/plain": [
       "7"
      ]
     },
     "execution_count": 77,
     "metadata": {},
     "output_type": "execute_result"
    }
   ],
   "source": [
    "protocolList.index('snmp')"
   ]
  },
  {
   "cell_type": "code",
   "execution_count": 78,
   "metadata": {},
   "outputs": [
    {
     "name": "stdout",
     "output_type": "stream",
     "text": [
      "['TCP', 'HTTP', 'HTTPS', 'FTP', 'SFTP', 'SSH', 'TELNET', 'SMTP', 'snmp']\n"
     ]
    }
   ],
   "source": [
    "protocolList.insert(0, 'TCP')\n",
    "print(protocolList)"
   ]
  },
  {
   "cell_type": "code",
   "execution_count": 79,
   "metadata": {},
   "outputs": [
    {
     "name": "stdout",
     "output_type": "stream",
     "text": [
      "['TCP', 'HTTP', 'HTTPS', 'FTP', 'SFTP', 'SSH', 'TELNET', 'SMTP']\n"
     ]
    }
   ],
   "source": [
    "#run pop\n",
    "protocolList.pop()\n",
    "print(protocolList)"
   ]
  },
  {
   "cell_type": "code",
   "execution_count": 80,
   "metadata": {},
   "outputs": [
    {
     "name": "stdout",
     "output_type": "stream",
     "text": [
      "['HTTP', 'HTTPS', 'FTP', 'SFTP', 'SSH', 'TELNET', 'SMTP']\n"
     ]
    }
   ],
   "source": [
    "#remove\n",
    "protocolList.remove('TCP')\n",
    "print(protocolList)"
   ]
  },
  {
   "cell_type": "code",
   "execution_count": 81,
   "metadata": {},
   "outputs": [
    {
     "name": "stdout",
     "output_type": "stream",
     "text": [
      "['HTTP', 'FTP', 'SFTP', 'SSH', 'TELNET', 'SMTP']\n"
     ]
    }
   ],
   "source": [
    "# pop with index\n",
    "protocolList.pop(1)\n",
    "print(protocolList)"
   ]
  },
  {
   "cell_type": "code",
   "execution_count": 82,
   "metadata": {},
   "outputs": [
    {
     "name": "stdout",
     "output_type": "stream",
     "text": [
      "['SMTP', 'TELNET', 'SSH', 'SFTP', 'FTP', 'HTTP']\n"
     ]
    }
   ],
   "source": [
    "# reverse the list\n",
    "protocolList.reverse()\n",
    "print(protocolList)"
   ]
  },
  {
   "cell_type": "code",
   "execution_count": 83,
   "metadata": {},
   "outputs": [
    {
     "name": "stdout",
     "output_type": "stream",
     "text": [
      "['FTP', 'HTTP', 'SFTP', 'SMTP', 'SSH', 'TELNET']\n"
     ]
    }
   ],
   "source": [
    "#sort in ascending order\n",
    "protocolList.sort()\n",
    "print(protocolList)"
   ]
  },
  {
   "cell_type": "code",
   "execution_count": 85,
   "metadata": {},
   "outputs": [
    {
     "name": "stdout",
     "output_type": "stream",
     "text": [
      "['TELNET', 'SSH', 'SMTP', 'SFTP', 'HTTP', 'FTP']\n"
     ]
    }
   ],
   "source": [
    "#sort in descending order\n",
    "protocolList.sort(reverse=True)\n",
    "print(protocolList)"
   ]
  }
 ],
 "metadata": {
  "kernelspec": {
   "display_name": "Python 3",
   "language": "python",
   "name": "python3"
  },
  "language_info": {
   "codemirror_mode": {
    "name": "ipython",
    "version": 3
   },
   "file_extension": ".py",
   "mimetype": "text/x-python",
   "name": "python",
   "nbconvert_exporter": "python",
   "pygments_lexer": "ipython3",
   "version": "3.10.5"
  }
 },
 "nbformat": 4,
 "nbformat_minor": 2
}
