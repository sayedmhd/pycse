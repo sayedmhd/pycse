{
 "cells": [
  {
   "cell_type": "code",
   "execution_count": 1,
   "metadata": {},
   "outputs": [
    {
     "name": "stdout",
     "output_type": "stream",
     "text": [
      "{'FTP': 21, 'SSH': 22, 'SMTP': 25, 'HTTP': 80}\n"
     ]
    }
   ],
   "source": [
    "#List of services\n",
    "services = {\"FTP\" :21, \"SSH\":22, \"SMTP\":25, \"HTTP\":80}\n",
    "print(services)"
   ]
  },
  {
   "cell_type": "code",
   "execution_count": 2,
   "metadata": {},
   "outputs": [
    {
     "name": "stdout",
     "output_type": "stream",
     "text": [
      "{'192.168.1.1': 80, '1.1.1.1': 443, '10.1.1.1': 8080}\n"
     ]
    }
   ],
   "source": [
    "# List of Sockets\n",
    "sockets = {\"192.168.1.1\":80, \"1.1.1.1\":443, \"10.1.1.1\": 8080 }\n",
    "print(sockets)"
   ]
  },
  {
   "cell_type": "code",
   "execution_count": 4,
   "metadata": {},
   "outputs": [
    {
     "data": {
      "text/plain": [
       "21"
      ]
     },
     "execution_count": 4,
     "metadata": {},
     "output_type": "execute_result"
    }
   ],
   "source": [
    "services[\"FTP\"]"
   ]
  },
  {
   "cell_type": "code",
   "execution_count": 5,
   "metadata": {},
   "outputs": [
    {
     "data": {
      "text/plain": [
       "21"
      ]
     },
     "execution_count": 5,
     "metadata": {},
     "output_type": "execute_result"
    }
   ],
   "source": [
    "services.get(\"FTP\")"
   ]
  },
  {
   "cell_type": "code",
   "execution_count": 9,
   "metadata": {},
   "outputs": [
    {
     "data": {
      "text/plain": [
       "'Service not found'"
      ]
     },
     "execution_count": 9,
     "metadata": {},
     "output_type": "execute_result"
    }
   ],
   "source": [
    "services.get(\"snmp\", \"Service not found\")"
   ]
  },
  {
   "cell_type": "code",
   "execution_count": 10,
   "metadata": {},
   "outputs": [
    {
     "name": "stdout",
     "output_type": "stream",
     "text": [
      "{'FTP': 21, 'SSH': 22, 'SMTP': 25, 'HTTP': 80}\n"
     ]
    }
   ],
   "source": [
    "print(services)"
   ]
  },
  {
   "cell_type": "code",
   "execution_count": 14,
   "metadata": {},
   "outputs": [
    {
     "name": "stdout",
     "output_type": "stream",
     "text": [
      "{'DNS': 53, 'DHCP': 67, 'TFTP': 69}\n"
     ]
    }
   ],
   "source": [
    "service2 = {\"DNS\": 53, \"DHCP\": 67, \"DHCP\": 67, \"TFTP\":69}\n",
    "print(service2)"
   ]
  },
  {
   "cell_type": "code",
   "execution_count": 19,
   "metadata": {},
   "outputs": [
    {
     "name": "stdout",
     "output_type": "stream",
     "text": [
      "{'FTP': 21, 'SSH': 22, 'SMTP': 25, 'HTTP': 80, 'DNS': 53, 'DHCP': 67, 'TFTP': 69}\n"
     ]
    }
   ],
   "source": [
    "services.update(service2)\n",
    "print(services)"
   ]
  },
  {
   "cell_type": "code",
   "execution_count": 20,
   "metadata": {},
   "outputs": [
    {
     "name": "stdout",
     "output_type": "stream",
     "text": [
      "dict_values([21, 22, 25, 80, 53, 67, 69])\n"
     ]
    }
   ],
   "source": [
    "print(services.values())"
   ]
  },
  {
   "cell_type": "code",
   "execution_count": 21,
   "metadata": {},
   "outputs": [
    {
     "name": "stdout",
     "output_type": "stream",
     "text": [
      "dict_keys(['FTP', 'SSH', 'SMTP', 'HTTP', 'DNS', 'DHCP', 'TFTP'])\n"
     ]
    }
   ],
   "source": [
    "print(services.keys())"
   ]
  },
  {
   "cell_type": "code",
   "execution_count": 27,
   "metadata": {},
   "outputs": [
    {
     "name": "stdout",
     "output_type": "stream",
     "text": [
      "FTP 21\n",
      "SSH 22\n",
      "SMTP 25\n",
      "HTTP 80\n",
      "DNS 53\n",
      "DHCP 67\n",
      "TFTP 69\n"
     ]
    }
   ],
   "source": [
    "# For loop fpr reading services key, values\n",
    "for key,value in services.items():\n",
    "    print(key, value)"
   ]
  },
  {
   "cell_type": "code",
   "execution_count": 26,
   "metadata": {},
   "outputs": [
    {
     "name": "stdout",
     "output_type": "stream",
     "text": [
      "('FTP', 21)\n",
      "('SSH', 22)\n",
      "('SMTP', 25)\n",
      "('HTTP', 80)\n",
      "('DNS', 53)\n",
      "('DHCP', 67)\n",
      "('TFTP', 69)\n"
     ]
    }
   ],
   "source": [
    "# For loop fpr reading services key, values\n",
    "for value in services.items():\n",
    "    print(value)"
   ]
  }
 ],
 "metadata": {
  "kernelspec": {
   "display_name": "Python 3",
   "language": "python",
   "name": "python3"
  },
  "language_info": {
   "codemirror_mode": {
    "name": "ipython",
    "version": 3
   },
   "file_extension": ".py",
   "mimetype": "text/x-python",
   "name": "python",
   "nbconvert_exporter": "python",
   "pygments_lexer": "ipython3",
   "version": "3.10.5"
  }
 },
 "nbformat": 4,
 "nbformat_minor": 2
}
